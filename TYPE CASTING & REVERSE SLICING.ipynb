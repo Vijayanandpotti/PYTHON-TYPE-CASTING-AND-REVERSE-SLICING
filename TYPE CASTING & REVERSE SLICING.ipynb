{
 "cells": [
  {
   "cell_type": "markdown",
   "id": "5c23c0f4-afdd-4e51-b7a5-220eefc6f610",
   "metadata": {},
   "source": [
    "# PHTYON  TYPE CASTING | TYPE CONVERSION 24-10-2024 "
   ]
  },
  {
   "cell_type": "raw",
   "id": "f55305b7-7b47-457d-866f-b6cdde37722d",
   "metadata": {},
   "source": [
    "When we convert one data type to anothe data type we call it as \"TYPE CATING\" or \"TYPE CONVERSION\""
   ]
  },
  {
   "cell_type": "code",
   "execution_count": 3,
   "id": "3c381356-8ac8-49b4-a336-d1e66b8a87b5",
   "metadata": {},
   "outputs": [
    {
     "data": {
      "text/plain": [
       "2"
      ]
     },
     "execution_count": 3,
     "metadata": {},
     "output_type": "execute_result"
    }
   ],
   "source": [
    "int(2.3) # float to integer"
   ]
  },
  {
   "cell_type": "code",
   "execution_count": 6,
   "id": "483b1147-05d5-4b6f-aa2e-a5caa79accbf",
   "metadata": {},
   "outputs": [
    {
     "data": {
      "text/plain": [
       "1"
      ]
     },
     "execution_count": 6,
     "metadata": {},
     "output_type": "execute_result"
    }
   ],
   "source": [
    "int(True) # bollean to integer"
   ]
  },
  {
   "cell_type": "code",
   "execution_count": 8,
   "id": "174ac3fb-3079-46eb-99be-22fd2f88aed5",
   "metadata": {},
   "outputs": [
    {
     "data": {
      "text/plain": [
       "10"
      ]
     },
     "execution_count": 8,
     "metadata": {},
     "output_type": "execute_result"
    }
   ],
   "source": [
    "int('10') # sting to int ( but the string must in numeric not alphabetic or else you can see error below)"
   ]
  },
  {
   "cell_type": "code",
   "execution_count": 10,
   "id": "a4d395e7-900f-4da2-b2a2-8928b9452ebb",
   "metadata": {},
   "outputs": [
    {
     "ename": "ValueError",
     "evalue": "invalid literal for int() with base 10: 'ten'",
     "output_type": "error",
     "traceback": [
      "\u001b[1;31m---------------------------------------------------------------------------\u001b[0m",
      "\u001b[1;31mValueError\u001b[0m                                Traceback (most recent call last)",
      "Cell \u001b[1;32mIn[10], line 1\u001b[0m\n\u001b[1;32m----> 1\u001b[0m \u001b[38;5;28mint\u001b[39m(\u001b[38;5;124m'\u001b[39m\u001b[38;5;124mten\u001b[39m\u001b[38;5;124m'\u001b[39m)\n",
      "\u001b[1;31mValueError\u001b[0m: invalid literal for int() with base 10: 'ten'"
     ]
    }
   ],
   "source": [
    "int('ten')"
   ]
  },
  {
   "cell_type": "code",
   "execution_count": 9,
   "id": "627256bc-6f44-42e8-bf86-b47843119743",
   "metadata": {},
   "outputs": [
    {
     "ename": "TypeError",
     "evalue": "int() argument must be a string, a bytes-like object or a real number, not 'complex'",
     "output_type": "error",
     "traceback": [
      "\u001b[1;31m---------------------------------------------------------------------------\u001b[0m",
      "\u001b[1;31mTypeError\u001b[0m                                 Traceback (most recent call last)",
      "Cell \u001b[1;32mIn[9], line 1\u001b[0m\n\u001b[1;32m----> 1\u001b[0m \u001b[38;5;28mint\u001b[39m(\u001b[38;5;241m1\u001b[39m\u001b[38;5;241m+\u001b[39m\u001b[38;5;241m2\u001b[39mj)\n",
      "\u001b[1;31mTypeError\u001b[0m: int() argument must be a string, a bytes-like object or a real number, not 'complex'"
     ]
    }
   ],
   "source": [
    "int(1+2j)"
   ]
  },
  {
   "cell_type": "raw",
   "id": "f1625a14-e8f8-4e59-8cbb-67bad040950c",
   "metadata": {},
   "source": [
    "1. The above code shows conveting all data types to integer\n",
    "2. Complex data type cannot be converted to integer not possible"
   ]
  },
  {
   "cell_type": "code",
   "execution_count": 12,
   "id": "0d9f3e8a-2be8-4b01-baa4-40a2c89d924d",
   "metadata": {},
   "outputs": [
    {
     "data": {
      "text/plain": [
       "'nit hello python'"
      ]
     },
     "execution_count": 12,
     "metadata": {},
     "output_type": "execute_result"
    }
   ],
   "source": [
    "s2='nit hello python'\n",
    "s2"
   ]
  },
  {
   "cell_type": "code",
   "execution_count": 13,
   "id": "e627abdb-46d4-440f-b63f-eaf87e7aeb7f",
   "metadata": {},
   "outputs": [],
   "source": [
    "del s2 # it is the code we use to delete the  varialbe for example: s2 we defined above and  deleted now"
   ]
  },
  {
   "cell_type": "code",
   "execution_count": 14,
   "id": "2f0d2ebe-c1b4-4392-9572-c48e7e96e6d5",
   "metadata": {},
   "outputs": [
    {
     "ename": "NameError",
     "evalue": "name 's2' is not defined",
     "output_type": "error",
     "traceback": [
      "\u001b[1;31m---------------------------------------------------------------------------\u001b[0m",
      "\u001b[1;31mNameError\u001b[0m                                 Traceback (most recent call last)",
      "Cell \u001b[1;32mIn[14], line 1\u001b[0m\n\u001b[1;32m----> 1\u001b[0m s2\n",
      "\u001b[1;31mNameError\u001b[0m: name 's2' is not defined"
     ]
    }
   ],
   "source": [
    "s2"
   ]
  },
  {
   "cell_type": "raw",
   "id": "59a4c8fa-9386-4366-816a-4583c41bd21d",
   "metadata": {},
   "source": [
    "1. It is showing error because we have deleted s2 in  from the system memory"
   ]
  },
  {
   "cell_type": "code",
   "execution_count": 16,
   "id": "a8664f87-990c-49d9-a706-288bd5c1f531",
   "metadata": {},
   "outputs": [],
   "source": [
    "import numpy as np \n",
    "a = np.nan"
   ]
  },
  {
   "cell_type": "code",
   "execution_count": 17,
   "id": "6333984c-7c1d-4070-be99-f246a155ccd6",
   "metadata": {},
   "outputs": [
    {
     "data": {
      "text/plain": [
       "float"
      ]
     },
     "execution_count": 17,
     "metadata": {},
     "output_type": "execute_result"
    }
   ],
   "source": [
    "type(a)"
   ]
  },
  {
   "cell_type": "markdown",
   "id": "67aa8991-7f1b-459b-bc67-109adb72736a",
   "metadata": {},
   "source": [
    " # 25-10-2024"
   ]
  },
  {
   "cell_type": "code",
   "execution_count": 19,
   "id": "7b5b19ee-10cc-4279-915b-83f67fe19f89",
   "metadata": {},
   "outputs": [
    {
     "data": {
      "text/plain": [
       "3.0"
      ]
     },
     "execution_count": 19,
     "metadata": {},
     "output_type": "execute_result"
    }
   ],
   "source": [
    "float(3)"
   ]
  },
  {
   "cell_type": "code",
   "execution_count": 20,
   "id": "18049525-c8aa-4933-908e-897d36d155fe",
   "metadata": {},
   "outputs": [
    {
     "data": {
      "text/plain": [
       "1.0"
      ]
     },
     "execution_count": 20,
     "metadata": {},
     "output_type": "execute_result"
    }
   ],
   "source": [
    "float(True)"
   ]
  },
  {
   "cell_type": "code",
   "execution_count": 21,
   "id": "01fc458f-5988-436a-9689-74d270b116b9",
   "metadata": {},
   "outputs": [
    {
     "ename": "NameError",
     "evalue": "name 'flaot' is not defined",
     "output_type": "error",
     "traceback": [
      "\u001b[1;31m---------------------------------------------------------------------------\u001b[0m",
      "\u001b[1;31mNameError\u001b[0m                                 Traceback (most recent call last)",
      "Cell \u001b[1;32mIn[21], line 1\u001b[0m\n\u001b[1;32m----> 1\u001b[0m flaot(\u001b[38;5;241m1\u001b[39m\u001b[38;5;241m+\u001b[39m\u001b[38;5;241m2\u001b[39mj)\n",
      "\u001b[1;31mNameError\u001b[0m: name 'flaot' is not defined"
     ]
    }
   ],
   "source": [
    "flaot(1+2j)"
   ]
  },
  {
   "cell_type": "raw",
   "id": "b3a491b2-b144-42c0-99f9-d10df79d4c91",
   "metadata": {},
   "source": [
    "In the above code it is the output is showing  error because it is not possible to covert complex data type into float data type."
   ]
  },
  {
   "cell_type": "code",
   "execution_count": 24,
   "id": "98ab5f55-0992-40af-874c-004ea47163db",
   "metadata": {},
   "outputs": [
    {
     "ename": "TypeError",
     "evalue": "float expected at most 1 argument, got 2",
     "output_type": "error",
     "traceback": [
      "\u001b[1;31m---------------------------------------------------------------------------\u001b[0m",
      "\u001b[1;31mTypeError\u001b[0m                                 Traceback (most recent call last)",
      "Cell \u001b[1;32mIn[24], line 1\u001b[0m\n\u001b[1;32m----> 1\u001b[0m \u001b[38;5;28mfloat\u001b[39m(\u001b[38;5;241m3\u001b[39m, \u001b[38;5;241m4\u001b[39m)\n",
      "\u001b[1;31mTypeError\u001b[0m: float expected at most 1 argument, got 2"
     ]
    }
   ],
   "source": [
    "float(3, 4)"
   ]
  },
  {
   "cell_type": "raw",
   "id": "65ae0b16-59ef-48a1-a03c-0947e62401cd",
   "metadata": {},
   "source": [
    "1. It is showing error because we have passed two argument  for one variable which is not possbile \n",
    "2.  We cannot pass two argument for one variable"
   ]
  },
  {
   "cell_type": "code",
   "execution_count": 25,
   "id": "78ecc217-79ca-45e0-a703-fc8bb4d23ea9",
   "metadata": {},
   "outputs": [
    {
     "data": {
      "text/plain": [
       "10.0"
      ]
     },
     "execution_count": 25,
     "metadata": {},
     "output_type": "execute_result"
    }
   ],
   "source": [
    "float('10')"
   ]
  },
  {
   "cell_type": "code",
   "execution_count": 26,
   "id": "9d1331d7-33a1-40d4-999e-e58a2375afe2",
   "metadata": {},
   "outputs": [
    {
     "data": {
      "text/plain": [
       "(10+0j)"
      ]
     },
     "execution_count": 26,
     "metadata": {},
     "output_type": "execute_result"
    }
   ],
   "source": [
    "complex(10)"
   ]
  },
  {
   "cell_type": "code",
   "execution_count": 27,
   "id": "aca08303-70c8-40bf-8693-1175122914ad",
   "metadata": {},
   "outputs": [
    {
     "data": {
      "text/plain": [
       "(10+20j)"
      ]
     },
     "execution_count": 27,
     "metadata": {},
     "output_type": "execute_result"
    }
   ],
   "source": [
    "complex(10,20)"
   ]
  },
  {
   "cell_type": "code",
   "execution_count": 28,
   "id": "e7074818-5879-4083-b371-668dbbc20472",
   "metadata": {},
   "outputs": [
    {
     "ename": "NameError",
     "evalue": "name 'omplex' is not defined",
     "output_type": "error",
     "traceback": [
      "\u001b[1;31m---------------------------------------------------------------------------\u001b[0m",
      "\u001b[1;31mNameError\u001b[0m                                 Traceback (most recent call last)",
      "Cell \u001b[1;32mIn[28], line 1\u001b[0m\n\u001b[1;32m----> 1\u001b[0m omplex(\u001b[38;5;241m10\u001b[39m,\u001b[38;5;241m20\u001b[39m,\u001b[38;5;241m30\u001b[39m)\n",
      "\u001b[1;31mNameError\u001b[0m: name 'omplex' is not defined"
     ]
    }
   ],
   "source": [
    "omplex(10,20,30)"
   ]
  },
  {
   "cell_type": "raw",
   "id": "dfd4dcdb-6deb-40fd-bb94-a51a99190504",
   "metadata": {},
   "source": [
    "1. It is showing error veacuse the complex cannot take three arguments\n",
    "2. The complext can take only two arguments"
   ]
  },
  {
   "cell_type": "code",
   "execution_count": 29,
   "id": "65c75764-9988-418a-a02f-241fab38b041",
   "metadata": {},
   "outputs": [
    {
     "data": {
      "text/plain": [
       "(2.3+0j)"
      ]
     },
     "execution_count": 29,
     "metadata": {},
     "output_type": "execute_result"
    }
   ],
   "source": [
    "complex(2.3) # complex to float"
   ]
  },
  {
   "cell_type": "code",
   "execution_count": 32,
   "id": "d3051af4-25f4-4a7d-92d8-5202d2d3c1f5",
   "metadata": {},
   "outputs": [
    {
     "data": {
      "text/plain": [
       "(2.3+10j)"
      ]
     },
     "execution_count": 32,
     "metadata": {},
     "output_type": "execute_result"
    }
   ],
   "source": [
    "complex(2.3, 10) "
   ]
  },
  {
   "cell_type": "code",
   "execution_count": 33,
   "id": "42e98a68-f771-4bb2-adcf-ff63a10f4d54",
   "metadata": {},
   "outputs": [
    {
     "data": {
      "text/plain": [
       "(1+0j)"
      ]
     },
     "execution_count": 33,
     "metadata": {},
     "output_type": "execute_result"
    }
   ],
   "source": [
    "complex(True) # complex to boolena"
   ]
  },
  {
   "cell_type": "code",
   "execution_count": 34,
   "id": "c289e754-4d24-4160-beb9-aafcef7ce922",
   "metadata": {},
   "outputs": [
    {
     "data": {
      "text/plain": [
       "0j"
      ]
     },
     "execution_count": 34,
     "metadata": {},
     "output_type": "execute_result"
    }
   ],
   "source": [
    "complex(False) # complex to boolean"
   ]
  },
  {
   "cell_type": "code",
   "execution_count": 35,
   "id": "7f1186e1-7b6a-4431-866d-d7bee55d835d",
   "metadata": {},
   "outputs": [
    {
     "data": {
      "text/plain": [
       "(10+0j)"
      ]
     },
     "execution_count": 35,
     "metadata": {},
     "output_type": "execute_result"
    }
   ],
   "source": [
    "complex('10') # complex to string"
   ]
  },
  {
   "cell_type": "raw",
   "id": "6f12a660-1f3e-48f3-a908-6e360a0a4ce8",
   "metadata": {},
   "source": [
    "We can convert all other data types to complex"
   ]
  },
  {
   "cell_type": "code",
   "execution_count": 39,
   "id": "6b6822f2-1ca1-43c6-ab54-83a7c08ef5cc",
   "metadata": {},
   "outputs": [
    {
     "data": {
      "text/plain": [
       "True"
      ]
     },
     "execution_count": 39,
     "metadata": {},
     "output_type": "execute_result"
    }
   ],
   "source": [
    "bool(1.3) # float to boolean"
   ]
  },
  {
   "cell_type": "code",
   "execution_count": 40,
   "id": "c30a93e4-2b87-427f-972a-6dcba8f85a57",
   "metadata": {},
   "outputs": [
    {
     "data": {
      "text/plain": [
       "True"
      ]
     },
     "execution_count": 40,
     "metadata": {},
     "output_type": "execute_result"
    }
   ],
   "source": [
    "bool(3) # integer to boolean"
   ]
  },
  {
   "cell_type": "code",
   "execution_count": 41,
   "id": "c9adeaf5-91fe-45da-97f6-768377d0c1de",
   "metadata": {},
   "outputs": [
    {
     "data": {
      "text/plain": [
       "True"
      ]
     },
     "execution_count": 41,
     "metadata": {},
     "output_type": "execute_result"
    }
   ],
   "source": [
    "bool('10') # string to boolean"
   ]
  },
  {
   "cell_type": "code",
   "execution_count": 43,
   "id": "c20840ce-90a2-4000-a92e-2176338d17b0",
   "metadata": {},
   "outputs": [
    {
     "data": {
      "text/plain": [
       "True"
      ]
     },
     "execution_count": 43,
     "metadata": {},
     "output_type": "execute_result"
    }
   ],
   "source": [
    "bool('ten') # bool to string in alphabet is possible"
   ]
  },
  {
   "cell_type": "code",
   "execution_count": 44,
   "id": "cc29774b-c28c-4ab3-a8dc-9f9bdb18b4ed",
   "metadata": {},
   "outputs": [
    {
     "data": {
      "text/plain": [
       "True"
      ]
     },
     "execution_count": 44,
     "metadata": {},
     "output_type": "execute_result"
    }
   ],
   "source": [
    "bool(10+20j) # boolean to complex"
   ]
  },
  {
   "cell_type": "raw",
   "id": "b12843af-658e-4c13-8819-135927b34c8e",
   "metadata": {},
   "source": [
    "in boolean non zero mean false for example bool=( ) empty boolean is false"
   ]
  },
  {
   "cell_type": "code",
   "execution_count": 45,
   "id": "8fec69a9-d299-4f4e-a51d-efa6585e0c45",
   "metadata": {},
   "outputs": [
    {
     "data": {
      "text/plain": [
       "False"
      ]
     },
     "execution_count": 45,
     "metadata": {},
     "output_type": "execute_result"
    }
   ],
   "source": [
    "bool()"
   ]
  },
  {
   "cell_type": "code",
   "execution_count": 47,
   "id": "4cc8f1d8-64ba-4beb-90fb-f909c7ca0035",
   "metadata": {},
   "outputs": [
    {
     "name": "stdout",
     "output_type": "stream",
     "text": [
      "2\n",
      "2.3\n",
      "True\n",
      "(1+2j)\n"
     ]
    }
   ],
   "source": [
    "print(str(2))\n",
    "print(str(2.3))\n",
    "print(str(True))\n",
    "print(str(1+2j))\n",
    "      "
   ]
  },
  {
   "cell_type": "markdown",
   "id": "3c88d0fe-7ff8-4a97-9362-779322df1dbe",
   "metadata": {},
   "source": [
    "# TYPE CASTING SESSION COMPLETE "
   ]
  },
  {
   "cell_type": "markdown",
   "id": "04d45f94-6006-4618-9989-3c04f20b6d3c",
   "metadata": {},
   "source": [
    "# REVERSE SLICING"
   ]
  },
  {
   "cell_type": "code",
   "execution_count": 50,
   "id": "0119b93c-83d8-4582-9428-164ac7ec30ee",
   "metadata": {},
   "outputs": [
    {
     "data": {
      "text/plain": [
       "'HELLOPYTHON'"
      ]
     },
     "execution_count": 50,
     "metadata": {},
     "output_type": "execute_result"
    }
   ],
   "source": [
    "index = 'HELLOPYTHON'\n",
    "index"
   ]
  },
  {
   "cell_type": "code",
   "execution_count": 51,
   "id": "4b5f3a2e-081c-4bb0-b77a-04ecee8c1c7f",
   "metadata": {},
   "outputs": [
    {
     "data": {
      "text/plain": [
       "'HELLOPYTHON'"
      ]
     },
     "execution_count": 51,
     "metadata": {},
     "output_type": "execute_result"
    }
   ],
   "source": [
    "index[:]"
   ]
  },
  {
   "cell_type": "raw",
   "id": "143425ff-540e-4b43-a97d-873d06e248aa",
   "metadata": {},
   "source": [
    "1.To get index no need to type whole letter, enter in and hit tab buttton you can see the defaut list option"
   ]
  },
  {
   "cell_type": "code",
   "execution_count": 52,
   "id": "61089931-4165-4455-8270-43cf6331797f",
   "metadata": {},
   "outputs": [
    {
     "data": {
      "text/plain": [
       "'HELLOPYTHON'"
      ]
     },
     "execution_count": 52,
     "metadata": {},
     "output_type": "execute_result"
    }
   ],
   "source": [
    "index"
   ]
  },
  {
   "cell_type": "raw",
   "id": "8a234cbd-de05-4378-a934-501bedf680ee",
   "metadata": {},
   "source": [
    "HELLOPYTHON\n",
    "01234567891011"
   ]
  },
  {
   "cell_type": "code",
   "execution_count": 53,
   "id": "cb354c14-df73-4f0a-a4cc-339d38845e7f",
   "metadata": {},
   "outputs": [
    {
     "data": {
      "text/plain": [
       "'NOHTYPOLLEH'"
      ]
     },
     "execution_count": 53,
     "metadata": {},
     "output_type": "execute_result"
    }
   ],
   "source": [
    "index[::-1] # this is code for reverse string"
   ]
  },
  {
   "cell_type": "raw",
   "id": "87c1a915-ab5a-4580-9bef-2b26c86ea566",
   "metadata": {},
   "source": [
    "1. The above code shows in the reversal word of HELLOPYTHON\n",
    "2. The Code for reversal string is '::' two slicing"
   ]
  },
  {
   "cell_type": "code",
   "execution_count": 54,
   "id": "63c70848-c2d8-4dd6-8e0f-aa3fb8b189d4",
   "metadata": {},
   "outputs": [
    {
     "data": {
      "text/plain": [
       "'NHYOLH'"
      ]
     },
     "execution_count": 54,
     "metadata": {},
     "output_type": "execute_result"
    }
   ],
   "source": [
    "index[::-2]"
   ]
  },
  {
   "cell_type": "code",
   "execution_count": 55,
   "id": "f95a9bf5-90ed-4cf8-868c-2e4502059ca8",
   "metadata": {},
   "outputs": [
    {
     "data": {
      "text/plain": [
       "'NYL'"
      ]
     },
     "execution_count": 55,
     "metadata": {},
     "output_type": "execute_result"
    }
   ],
   "source": [
    "index[::-4]"
   ]
  },
  {
   "cell_type": "code",
   "execution_count": 56,
   "id": "20cf7d4f-853f-447f-b09b-c083322d4ff2",
   "metadata": {},
   "outputs": [
    {
     "data": {
      "text/plain": [
       "'HELLOPY'"
      ]
     },
     "execution_count": 56,
     "metadata": {},
     "output_type": "execute_result"
    }
   ],
   "source": [
    "index[:-4]"
   ]
  },
  {
   "cell_type": "code",
   "execution_count": 57,
   "id": "ae0b7742-5bdd-452a-8d52-fd356a3a0fd1",
   "metadata": {},
   "outputs": [
    {
     "data": {
      "text/plain": [
       "'HELLO'"
      ]
     },
     "execution_count": 57,
     "metadata": {},
     "output_type": "execute_result"
    }
   ],
   "source": [
    "index[:5]"
   ]
  },
  {
   "cell_type": "raw",
   "id": "4c005b38-7914-428b-8f5d-5f5e378c4343",
   "metadata": {},
   "source": [
    "1. if we have enter double slice ::  the index strats from right side \n",
    "2. if We have enter single slice : the index starts from left side \n",
    "\n",
    "::-4 means from right side we need to strat\n",
    ":-4  means eliminate index from right side and apply n-1 formula"
   ]
  },
  {
   "cell_type": "raw",
   "id": "e65b4040-56c5-4661-8e78-34c68d64c1e9",
   "metadata": {},
   "source": [
    "3. index[:] ---> means print all element"
   ]
  },
  {
   "cell_type": "raw",
   "id": "80bf00e3-b479-47ae-bc58-6687ccda4c04",
   "metadata": {},
   "source": [
    "4. index[2:4] ---> means print 2nd index to 4-1=3rd letter"
   ]
  },
  {
   "cell_type": "raw",
   "id": "ddb5fb01-59f7-4e6e-b99a-66ea032040d2",
   "metadata": {},
   "source": [
    "5. index[: 4] -----> means print  the element  from the begininng till 3rd index since there is no number before slice"
   ]
  },
  {
   "cell_type": "raw",
   "id": "1e9bcf6b-6ddf-45a8-bd25-6cd099252247",
   "metadata": {},
   "source": [
    "6. index[4 :] means print the element form 4th letter"
   ]
  },
  {
   "cell_type": "raw",
   "id": "e9bca2f9-d9f6-4a34-86d5-805060e1523e",
   "metadata": {},
   "source": [
    "7. index[1:10:3] means print the element from 1st to 9th for every 3rd step"
   ]
  },
  {
   "cell_type": "markdown",
   "id": "cb6acdf6-37f2-431a-af2c-5e1a651d57a0",
   "metadata": {},
   "source": [
    "# CHARTS AND VISUALIZATION"
   ]
  },
  {
   "cell_type": "code",
   "execution_count": 65,
   "id": "d7b48329-cb46-450d-908c-ca20c34f7dfc",
   "metadata": {},
   "outputs": [
    {
     "data": {
      "image/png": "[encoded data removed]",
      "text/plain": [
       "<Figure size 640x480 with 1 Axes>"
      ]
     },
     "metadata": {},
     "output_type": "display_data"
    }
   ],
   "source": [
    "import matplotlib.pyplot as plt\n",
    "plt.plot( [1, 4, 9, 16]) \n",
    "plt.ylabel('Numbers')\n",
    "plt.show()"
   ]
  },
  {
   "cell_type": "code",
   "execution_count": 66,
   "id": "5c83d1f3-7cab-4685-80a0-f328915f1e89",
   "metadata": {},
   "outputs": [
    {
     "data": {
      "image/png": "[encoded data removed]",
      "text/plain": [
       "<Figure size 640x480 with 1 Axes>"
      ]
     },
     "metadata": {},
     "output_type": "display_data"
    }
   ],
   "source": [
    "import matplotlib.pyplot as plt\n",
    "plt.plot( [1, 8, 27, 64]) \n",
    "plt.ylabel('Numbers')\n",
    "plt.show()"
   ]
  },
  {
   "cell_type": "markdown",
   "id": "fb6cbc08-10c8-450a-8fec-f923563593d7",
   "metadata": {},
   "source": [
    "# END OF SESSION "
   ]
  }
 ],
 "metadata": {
  "kernelspec": {
   "display_name": "Python 3 (ipykernel)",
   "language": "python",
   "name": "python3"
  },
  "language_info": {
   "codemirror_mode": {
    "name": "ipython",
    "version": 3
   },
   "file_extension": ".py",
   "mimetype": "text/x-python",
   "name": "python",
   "nbconvert_exporter": "python",
   "pygments_lexer": "ipython3",
   "version": "3.12.4"
  }
 },
 "nbformat": 4,
 "nbformat_minor": 5
}
